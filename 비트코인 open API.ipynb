{
 "cells": [
  {
   "cell_type": "markdown",
   "metadata": {},
   "source": [
    "# 비트코인 open API\n",
    "https://psbs.tistory.com/89\n",
    "\n",
    "나오는 응답\n",
    "    \n",
    "    {'success': True, 'message': '', 'result': {'Bid': 4025.00092321, 'Ask': 4026.60175655, 'Last': 4024.00915298}}    \n",
    "    Bid : 살 때,  \n",
    "    Ask : 팔 때,   \n",
    "    Last : 최근 거래 가격   "
   ]
  },
  {
   "cell_type": "code",
   "execution_count": 18,
   "metadata": {},
   "outputs": [
    {
     "name": "stdout",
     "output_type": "stream",
     "text": [
      "{'success': True, 'message': '', 'result': {'Bid': 9482.16800014, 'Ask': 9485.99999999, 'Last': 9485.99999999}}\n"
     ]
    }
   ],
   "source": [
    "import urllib.request\n",
    "import json\n",
    "\n",
    "url = \"https://bittrex.com/api/v1.1/public/getticker?market=USDT-BTC\"\n",
    "\n",
    "req = urllib.request.urlopen(url)\n",
    "res = req.readline()\n",
    "\n",
    "j = json.loads(res)\n",
    "print(j)"
   ]
  },
  {
   "cell_type": "code",
   "execution_count": 19,
   "metadata": {},
   "outputs": [
    {
     "name": "stdout",
     "output_type": "stream",
     "text": [
      "9485.99999999\n"
     ]
    }
   ],
   "source": [
    "print(j[\"result\"][\"Last\"])"
   ]
  }
 ],
 "metadata": {
  "kernelspec": {
   "display_name": "Python 3",
   "language": "python",
   "name": "python3"
  },
  "language_info": {
   "codemirror_mode": {
    "name": "ipython",
    "version": 3
   },
   "file_extension": ".py",
   "mimetype": "text/x-python",
   "name": "python",
   "nbconvert_exporter": "python",
   "pygments_lexer": "ipython3",
   "version": "3.7.3"
  }
 },
 "nbformat": 4,
 "nbformat_minor": 2
}
