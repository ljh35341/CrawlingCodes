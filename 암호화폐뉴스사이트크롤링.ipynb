{
 "cells": [
  {
   "cell_type": "markdown",
   "metadata": {},
   "source": [
    "# 암호화폐뉴스사이트크롤링 워밍업\n",
    "-RSS: https://www.coindesk.com/feed  \n",
    "-출처: https://steemit.com/kr/@sifnax/python-3"
   ]
  },
  {
   "cell_type": "code",
   "execution_count": 4,
   "metadata": {},
   "outputs": [],
   "source": [
    "import feedparser\n",
    "url = \"https://www.coindesk.com/feed\"\n",
    "feed = feedparser.parse(url) # feed결과는 Python Dictionay 객체로 저장됩니다.\n",
    "coindesk_url = []\n",
    "for entry in feed['entries']:\n",
    "    coindesk_url.append(entry['link'])"
   ]
  },
  {
   "cell_type": "code",
   "execution_count": 6,
   "metadata": {},
   "outputs": [],
   "source": [
    "for url in coindesk_url: # feedparser로 가져온 결과를 파일로 저장합니다.\n",
    "    with open('coindesk_news.txt','a',encoding='utf8') as f: \n",
    "        f.write(url+'\\n')"
   ]
  },
  {
   "cell_type": "markdown",
   "metadata": {},
   "source": [
    "# 암호화폐뉴스사이트크롤링 실전\n",
    "-'url업데이트'와 '텔레그램 메시지 보내기' 기능 추가  \n",
    "-출처: https://steemit.com/kr/@sifnax/python-5-telegram-api"
   ]
  },
  {
   "cell_type": "markdown",
   "metadata": {},
   "source": [
    "프로세스를 다시한번 정리해보면,  \n",
    "1. feedparser를 통해서 최신글의 url들을 가져온다.  \n",
    "2. 최신글의 url이 coindesk_news.txt 저장되어 있던(텔레그램으로 보낸) url과 동일한 것인지를 확인한다.  \n",
    "3. 만약 coindesk_news.txt 에 저장되어 있지 않은 url이라면, coindesk_news.txt에 추가한다.  \n",
    "4. requests와 lxml로 새 글 url에 제목과 본문을 가져온다.  \n",
    "5. 텔레그램 API로 메시지(제목+본문)를 보낸다.  "
   ]
  },
  {
   "cell_type": "code",
   "execution_count": null,
   "metadata": {},
   "outputs": [],
   "source": [
    "import feedparser\n",
    "url = \"https://www.coindesk.com/feed\"\n",
    "feed = feedparser.parse(url)\n",
    "coindesk_url = []\n",
    "for entry in feed['entries']:\n",
    "    coindesk_url.append(entry['link'])"
   ]
  },
  {
   "cell_type": "code",
   "execution_count": 8,
   "metadata": {},
   "outputs": [],
   "source": [
    "with open('coindesk_news.txt','r',encoding='utf8') as f:\n",
    "    old_url = f.read().split('\\n')"
   ]
  },
  {
   "cell_type": "code",
   "execution_count": 12,
   "metadata": {},
   "outputs": [],
   "source": [
    "new_url = []\n",
    "for new in coindesk_url:\n",
    "    if new not in old_url:\n",
    "        with open('coindesk_news.txt', 'a') as f:\n",
    "            f.write(new + '\\n')\n",
    "            # news_text = get_news_article(new)\n",
    "            # bot.sendMessage\n",
    "    else:\n",
    "        pass"
   ]
  },
  {
   "cell_type": "markdown",
   "metadata": {},
   "source": [
    "# 암호화폐뉴스사이트크롤링 심화\n",
    "-AWS에서 새글 알림봇 띄우기  \n",
    "-실수,해킹 등으로 인한 과금 두려움으로 다음에  \n",
    "-출처: https://steemit.com/kr/@sifnax/python-6-aws"
   ]
  },
  {
   "cell_type": "code",
   "execution_count": null,
   "metadata": {},
   "outputs": [],
   "source": []
  },
  {
   "cell_type": "code",
   "execution_count": null,
   "metadata": {},
   "outputs": [],
   "source": []
  },
  {
   "cell_type": "code",
   "execution_count": null,
   "metadata": {},
   "outputs": [],
   "source": []
  },
  {
   "cell_type": "code",
   "execution_count": null,
   "metadata": {},
   "outputs": [],
   "source": []
  },
  {
   "cell_type": "code",
   "execution_count": null,
   "metadata": {},
   "outputs": [],
   "source": []
  },
  {
   "cell_type": "code",
   "execution_count": null,
   "metadata": {},
   "outputs": [],
   "source": []
  },
  {
   "cell_type": "code",
   "execution_count": null,
   "metadata": {},
   "outputs": [],
   "source": []
  }
 ],
 "metadata": {
  "kernelspec": {
   "display_name": "Python 3",
   "language": "python",
   "name": "python3"
  },
  "language_info": {
   "codemirror_mode": {
    "name": "ipython",
    "version": 3
   },
   "file_extension": ".py",
   "mimetype": "text/x-python",
   "name": "python",
   "nbconvert_exporter": "python",
   "pygments_lexer": "ipython3",
   "version": "3.7.3"
  }
 },
 "nbformat": 4,
 "nbformat_minor": 2
}
